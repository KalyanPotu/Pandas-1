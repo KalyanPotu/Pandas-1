{
 "cells": [
  {
   "cell_type": "markdown",
   "metadata": {},
   "source": [
    "# Q1: How-to-count-distance-to-the-previous-zero"
   ]
  },
  {
   "cell_type": "code",
   "execution_count": 1,
   "metadata": {},
   "outputs": [
    {
     "data": {
      "text/plain": [
       "[1, 2, 0, 1, 2, 3, 4, 0, 1, 2]"
      ]
     },
     "execution_count": 1,
     "metadata": {},
     "output_type": "execute_result"
    }
   ],
   "source": [
    "import pandas as pd\n",
    "s = pd.Series([7, 2, 0, 3, 4, 2, 5, 0, 3, 4])\n",
    "(s.groupby(s.eq(0).cumsum().mask(s.eq(0))).cumcount() + 1).mask(s.eq(0), 0).tolist()"
   ]
  },
  {
   "cell_type": "markdown",
   "metadata": {},
   "source": [
    "# Q2 Create a DatetimeIndex that contains each business day of 2015.."
   ]
  },
  {
   "cell_type": "code",
   "execution_count": 5,
   "metadata": {},
   "outputs": [
    {
     "name": "stdout",
     "output_type": "stream",
     "text": [
      "2015-01-01    0.961782\n",
      "2015-01-02    0.832795\n",
      "2015-01-05    0.864986\n",
      "2015-01-06    0.483882\n",
      "2015-01-07    0.182092\n",
      "2015-01-08    0.694615\n",
      "2015-01-09    0.647811\n",
      "2015-01-12    0.682452\n",
      "2015-01-13    0.808864\n",
      "2015-01-14    0.890612\n",
      "2015-01-15    0.977454\n",
      "2015-01-16    0.748857\n",
      "2015-01-19    0.833339\n",
      "2015-01-20    0.828052\n",
      "2015-01-21    0.398469\n",
      "2015-01-22    0.847583\n",
      "2015-01-23    0.466130\n",
      "2015-01-26    0.423617\n",
      "2015-01-27    0.701558\n",
      "2015-01-28    0.925925\n",
      "2015-01-29    0.443239\n",
      "2015-01-30    0.713365\n",
      "2015-02-02    0.382307\n",
      "2015-02-03    0.699520\n",
      "2015-02-04    0.259340\n",
      "2015-02-05    0.788780\n",
      "2015-02-06    0.912225\n",
      "2015-02-09    0.349948\n",
      "2015-02-10    0.068521\n",
      "2015-02-11    0.639642\n",
      "                ...   \n",
      "2015-11-20    0.754534\n",
      "2015-11-23    0.015612\n",
      "2015-11-24    0.970629\n",
      "2015-11-25    0.629855\n",
      "2015-11-26    0.214258\n",
      "2015-11-27    0.210131\n",
      "2015-11-30    0.716038\n",
      "2015-12-01    0.382911\n",
      "2015-12-02    0.881641\n",
      "2015-12-03    0.674958\n",
      "2015-12-04    0.172744\n",
      "2015-12-07    0.414868\n",
      "2015-12-08    0.605915\n",
      "2015-12-09    0.651702\n",
      "2015-12-10    0.720041\n",
      "2015-12-11    0.697224\n",
      "2015-12-14    0.853474\n",
      "2015-12-15    0.669074\n",
      "2015-12-16    0.651972\n",
      "2015-12-17    0.629968\n",
      "2015-12-18    0.301593\n",
      "2015-12-21    0.691321\n",
      "2015-12-22    0.939103\n",
      "2015-12-23    0.020897\n",
      "2015-12-24    0.364913\n",
      "2015-12-25    0.446713\n",
      "2015-12-28    0.555609\n",
      "2015-12-29    0.119793\n",
      "2015-12-30    0.503480\n",
      "2015-12-31    0.972608\n",
      "Freq: B, Length: 261, dtype: float64\n"
     ]
    }
   ],
   "source": [
    "import numpy as np\n",
    "dti = pd.date_range(start='2015-01-01', end='2015-12-31', freq='B')\n",
    "s = pd.Series(np.random.rand(len(dti)), index=dti)\n",
    "print(s)"
   ]
  },
  {
   "cell_type": "markdown",
   "metadata": {},
   "source": [
    "# Q3 Find the sum of the values in s for every Wednesday"
   ]
  },
  {
   "cell_type": "code",
   "execution_count": 8,
   "metadata": {},
   "outputs": [
    {
     "data": {
      "text/plain": [
       "29.863706178550164"
      ]
     },
     "execution_count": 8,
     "metadata": {},
     "output_type": "execute_result"
    }
   ],
   "source": [
    "s[dti.weekday == 2].sum()"
   ]
  },
  {
   "cell_type": "markdown",
   "metadata": {},
   "source": [
    "# Q4 Average For each calendar month"
   ]
  },
  {
   "cell_type": "code",
   "execution_count": 9,
   "metadata": {},
   "outputs": [
    {
     "data": {
      "text/plain": [
       "2015-01-31    0.698067\n",
       "2015-02-28    0.526911\n",
       "2015-03-31    0.535239\n",
       "2015-04-30    0.615294\n",
       "2015-05-31    0.534634\n",
       "2015-06-30    0.574674\n",
       "2015-07-31    0.533698\n",
       "2015-08-31    0.547760\n",
       "2015-09-30    0.545344\n",
       "2015-10-31    0.393028\n",
       "2015-11-30    0.542377\n",
       "2015-12-31    0.561849\n",
       "Freq: M, dtype: float64"
      ]
     },
     "execution_count": 9,
     "metadata": {},
     "output_type": "execute_result"
    }
   ],
   "source": [
    "s.resample('M').mean()"
   ]
  },
  {
   "cell_type": "markdown",
   "metadata": {},
   "source": [
    "# Q4 - For each group of four consecutive calendar months in s, find the date on which the\n",
    "highest value occurred."
   ]
  },
  {
   "cell_type": "code",
   "execution_count": 10,
   "metadata": {},
   "outputs": [
    {
     "name": "stderr",
     "output_type": "stream",
     "text": [
      "C:\\Users\\645274\\AppData\\Local\\Continuum\\anaconda3\\lib\\site-packages\\ipykernel_launcher.py:1: FutureWarning: pd.TimeGrouper is deprecated and will be removed; Please use pd.Grouper(freq=...)\n",
      "  \"\"\"Entry point for launching an IPython kernel.\n"
     ]
    },
    {
     "data": {
      "text/plain": [
       "2015-01-31   2015-01-15\n",
       "2015-05-31   2015-04-14\n",
       "2015-09-30   2015-06-24\n",
       "2016-01-31   2015-12-31\n",
       "dtype: datetime64[ns]"
      ]
     },
     "execution_count": 10,
     "metadata": {},
     "output_type": "execute_result"
    }
   ],
   "source": [
    "s.groupby(pd.TimeGrouper('4M')).idxmax()"
   ]
  },
  {
   "cell_type": "code",
   "execution_count": null,
   "metadata": {},
   "outputs": [],
   "source": []
  },
  {
   "cell_type": "code",
   "execution_count": null,
   "metadata": {},
   "outputs": [],
   "source": []
  }
 ],
 "metadata": {
  "kernelspec": {
   "display_name": "Python 3",
   "language": "python",
   "name": "python3"
  },
  "language_info": {
   "codemirror_mode": {
    "name": "ipython",
    "version": 3
   },
   "file_extension": ".py",
   "mimetype": "text/x-python",
   "name": "python",
   "nbconvert_exporter": "python",
   "pygments_lexer": "ipython3",
   "version": "3.7.0"
  }
 },
 "nbformat": 4,
 "nbformat_minor": 2
}
